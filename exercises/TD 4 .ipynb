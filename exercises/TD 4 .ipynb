{
  "nbformat": 4,
  "nbformat_minor": 0,
  "metadata": {
    "colab": {
      "name": "Untitled7.ipynb",
      "provenance": [],
      "collapsed_sections": []
    },
    "kernelspec": {
      "name": "python3",
      "display_name": "Python 3"
    }
  },
  "cells": [
    {
      "cell_type": "markdown",
      "metadata": {
        "id": "DJUCRHoBNJDB"
      },
      "source": [
        "**1. Débuts avec les listes**"
      ]
    },
    {
      "cell_type": "markdown",
      "metadata": {
        "id": "PVUActBG-fn6"
      },
      "source": [
        "* Créer la liste 3, 5, 10, l'affecter à une variable, puis l'afficher.\n"
      ]
    },
    {
      "cell_type": "code",
      "metadata": {
        "colab": {
          "base_uri": "https://localhost:8080/"
        },
        "id": "fQTXxk0uK24T",
        "outputId": "6cdc2887-7112-4d91-bf72-549c1191a717"
      },
      "source": [
        "[3, 5, 10]"
      ],
      "execution_count": 1,
      "outputs": [
        {
          "output_type": "execute_result",
          "data": {
            "text/plain": [
              "[3, 5, 10]"
            ]
          },
          "metadata": {},
          "execution_count": 1
        }
      ]
    },
    {
      "cell_type": "code",
      "metadata": {
        "colab": {
          "base_uri": "https://localhost:8080/"
        },
        "id": "ixZMSLFELEGr",
        "outputId": "2e98709c-6a8f-4160-c611-16e7cec1cb24"
      },
      "source": [
        "L = [3, 5, 10]\n",
        "print(L)"
      ],
      "execution_count": 2,
      "outputs": [
        {
          "output_type": "stream",
          "name": "stdout",
          "text": [
            "[3, 5, 10]\n"
          ]
        }
      ]
    },
    {
      "cell_type": "markdown",
      "metadata": {
        "id": "KfXXw-Zr-o7b"
      },
      "source": [
        "* Ajouter ensuite 12 et 17 à la fin puis afficher à nouveau la liste.\n"
      ]
    },
    {
      "cell_type": "code",
      "metadata": {
        "colab": {
          "base_uri": "https://localhost:8080/"
        },
        "id": "eSXPjQ05LVo-",
        "outputId": "125383e7-2674-45db-d8d0-b4c4c5d05d3f"
      },
      "source": [
        "[3, 5, 10, 12, 17]"
      ],
      "execution_count": 3,
      "outputs": [
        {
          "output_type": "execute_result",
          "data": {
            "text/plain": [
              "[3, 5, 10, 12, 17]"
            ]
          },
          "metadata": {},
          "execution_count": 3
        }
      ]
    },
    {
      "cell_type": "markdown",
      "metadata": {
        "id": "RpKjou84MySJ"
      },
      "source": [
        "La méthode append() ajoute les \n",
        "éléments dans une liste "
      ]
    },
    {
      "cell_type": "code",
      "metadata": {
        "colab": {
          "base_uri": "https://localhost:8080/"
        },
        "id": "qOq43pocLXIw",
        "outputId": "56796055-f89f-442c-a99e-7f4c9ebbbce0"
      },
      "source": [
        "L.append(12)\n",
        "L.append(17)\n",
        "print(L)"
      ],
      "execution_count": 4,
      "outputs": [
        {
          "output_type": "stream",
          "name": "stdout",
          "text": [
            "[3, 5, 10, 12, 17]\n"
          ]
        }
      ]
    },
    {
      "cell_type": "markdown",
      "metadata": {
        "id": "kwjAe8Ll-ybH"
      },
      "source": [
        "* Changer le 10 en -7.\n"
      ]
    },
    {
      "cell_type": "markdown",
      "metadata": {
        "id": "uMFditRMOB4r"
      },
      "source": [
        "The index() method returns the index of the specified element in the list.\n"
      ]
    },
    {
      "cell_type": "code",
      "metadata": {
        "colab": {
          "base_uri": "https://localhost:8080/"
        },
        "id": "UAxYaVfsNp87",
        "outputId": "83e843ae-32a0-4aed-ca42-7f126a86bf9b"
      },
      "source": [
        "indice = L.index(10)\n",
        "L[indice] = -7\n",
        "print(L)"
      ],
      "execution_count": 5,
      "outputs": [
        {
          "output_type": "stream",
          "name": "stdout",
          "text": [
            "[3, 5, -7, 12, 17]\n"
          ]
        }
      ]
    },
    {
      "cell_type": "markdown",
      "metadata": {
        "id": "y7h_8c7Z_uey"
      },
      "source": [
        "* Avec une boucle for, écrire le double de chaque élément de la liste. Cela doit afficher [6, 10, -14, 24, 34]. La liste doit être modifiée.\n"
      ]
    },
    {
      "cell_type": "markdown",
      "metadata": {
        "id": "vuJwbS9oPf8c"
      },
      "source": [
        "range permet de créer rapidement une liste d'entier, sans devoir les écrire.\n",
        "\n",
        "range(11) équivaut à [0,1,2,3,4,5,6,7,8,9,10]"
      ]
    },
    {
      "cell_type": "code",
      "metadata": {
        "colab": {
          "base_uri": "https://localhost:8080/"
        },
        "id": "sWWqw_8OOIHZ",
        "outputId": "b35ebc98-657f-4927-80f7-c3dc638720ab"
      },
      "source": [
        "for i in range(len(L)):\n",
        "  L[i] *= 2\n",
        "print(L)"
      ],
      "execution_count": 6,
      "outputs": [
        {
          "output_type": "stream",
          "name": "stdout",
          "text": [
            "[6, 10, -14, 24, 34]\n"
          ]
        }
      ]
    },
    {
      "cell_type": "markdown",
      "metadata": {
        "id": "fRmz3LHp_606"
      },
      "source": [
        "* A l'aide d'une boucle for, ajouter la valeur i à l'élément d'indice i de la liste. Cela doit afficher [6, 11, -12, 27, 38]. La liste doit être modifiée.\n"
      ]
    },
    {
      "cell_type": "code",
      "metadata": {
        "colab": {
          "base_uri": "https://localhost:8080/"
        },
        "id": "HwEEf22VOlo7",
        "outputId": "10c00f5e-3801-4922-8254-63597be7b176"
      },
      "source": [
        "for i in range(len(L)):\n",
        "  L[i] += i\n",
        "print(L)"
      ],
      "execution_count": 7,
      "outputs": [
        {
          "output_type": "stream",
          "name": "stdout",
          "text": [
            "[6, 11, -12, 27, 38]\n"
          ]
        }
      ]
    },
    {
      "cell_type": "markdown",
      "metadata": {
        "id": "LkoyDQXLAA4Q"
      },
      "source": [
        "* Tirer 10 nombres à 2 chiffres au hasard et les mettre dans une nouvelle liste (vide au départ), puis afficher la somme des entiers de la liste et le plus grand de ces entiers.\n"
      ]
    },
    {
      "cell_type": "markdown",
      "metadata": {
        "id": "Kv_spsQ-AglV"
      },
      "source": [
        "la fonction **randint(0, 10)** du module random. Cette fonction renvoie un nombre entier tiré aléatoirement entre 0 inclus et 10 inclus.\n",
        "list.append(x)\n",
        "**append(x)**: Ajoute un élément x à la fin de la liste"
      ]
    },
    {
      "cell_type": "code",
      "metadata": {
        "colab": {
          "base_uri": "https://localhost:8080/"
        },
        "id": "QsJSPqraPq0Z",
        "outputId": "a1f15969-bc46-4890-e829-de228aa98765"
      },
      "source": [
        "import random\n",
        "L2 = []\n",
        "for i in range(10):\n",
        "    x = random.randint(10, 100)\n",
        "    L2.append(x)\n",
        "print(\"Dans la liste\", L2, \"la somme des éléments vaut\", sum(L2),\n",
        "    \"et le maximum vaut\", max(L2))"
      ],
      "execution_count": 8,
      "outputs": [
        {
          "output_type": "stream",
          "name": "stdout",
          "text": [
            "Dans la liste [59, 74, 11, 77, 78, 16, 82, 38, 38, 54] la somme des éléments vaut 527 et le maximum vaut 82\n"
          ]
        }
      ]
    },
    {
      "cell_type": "markdown",
      "metadata": {
        "id": "ktbizQBDBv6Q"
      },
      "source": [
        "* A partir de la liste choisie au hasard, créer une liste qui contient les éléments pairs et une deuxième liste qui contient les éléments impairs.\n"
      ]
    },
    {
      "cell_type": "code",
      "metadata": {
        "colab": {
          "base_uri": "https://localhost:8080/"
        },
        "id": "ozGyAFCmQaQM",
        "outputId": "a28fe799-ed7e-437d-87e5-eccdf0468b3b"
      },
      "source": [
        "L_pair = []\n",
        "L_impair = []\n",
        "for v in L2:\n",
        "  if v % 2 == 0:\n",
        "    L_pair.append(v)\n",
        "  else:\n",
        "    L_impair.append(v)\n",
        "print(L2, L_pair, L_impair)"
      ],
      "execution_count": 9,
      "outputs": [
        {
          "output_type": "stream",
          "name": "stdout",
          "text": [
            "[59, 74, 11, 77, 78, 16, 82, 38, 38, 54] [74, 78, 16, 82, 38, 38, 54] [59, 11, 77]\n"
          ]
        }
      ]
    },
    {
      "cell_type": "markdown",
      "metadata": {
        "id": "GZea4TZVDMZA"
      },
      "source": [
        "* Trier la liste choisie au hasard par ordre croissant en modifiant la liste."
      ]
    },
    {
      "cell_type": "code",
      "metadata": {
        "colab": {
          "base_uri": "https://localhost:8080/"
        },
        "id": "62zzJIgeRJ9V",
        "outputId": "293e6fdf-f4ac-4ee9-8345-d91038eaaeeb"
      },
      "source": [
        "L2.sort()\n",
        "print(L2)"
      ],
      "execution_count": 10,
      "outputs": [
        {
          "output_type": "stream",
          "name": "stdout",
          "text": [
            "[11, 16, 38, 38, 54, 59, 74, 77, 78, 82]\n"
          ]
        }
      ]
    },
    {
      "cell_type": "markdown",
      "metadata": {
        "id": "L6m_jJLxRism"
      },
      "source": [
        "* Supprimer le plus petit et le plus grand élément de la liste triée.\n",
        "\n"
      ]
    },
    {
      "cell_type": "code",
      "metadata": {
        "colab": {
          "base_uri": "https://localhost:8080/"
        },
        "id": "o8jLxz2RRkOI",
        "outputId": "87466f1f-9232-4204-b844-543312b2bfd7"
      },
      "source": [
        "L2 = L2[1:-1]\n",
        "print(L2)"
      ],
      "execution_count": 11,
      "outputs": [
        {
          "output_type": "stream",
          "name": "stdout",
          "text": [
            "[16, 38, 38, 54, 59, 74, 77, 78]\n"
          ]
        }
      ]
    },
    {
      "cell_type": "markdown",
      "metadata": {
        "id": "bE34-8vAEY6X"
      },
      "source": [
        "exmp: animaux = ['girafe', 'tigre', 'singe', 'souris']\n",
        "\n",
        "animaux[1:-1]\n",
        "\n",
        "['tigre', 'singe']\n",
        "\n",
        "\n"
      ]
    },
    {
      "cell_type": "markdown",
      "metadata": {
        "id": "4ZXnMz45UF1K"
      },
      "source": [
        "* Créer la liste des entiers de 1 jusqu'à 52. Ces entiers représentent les cartes d'un paquet de 52 cartes.\n"
      ]
    },
    {
      "cell_type": "code",
      "metadata": {
        "colab": {
          "base_uri": "https://localhost:8080/"
        },
        "id": "ANHX7sWlT8VC",
        "outputId": "d3a507c1-ba7c-435b-ac74-2e2a588138d0"
      },
      "source": [
        "paquet = list(range(1,53))\n",
        "print(paquet)"
      ],
      "execution_count": 12,
      "outputs": [
        {
          "output_type": "stream",
          "name": "stdout",
          "text": [
            "[1, 2, 3, 4, 5, 6, 7, 8, 9, 10, 11, 12, 13, 14, 15, 16, 17, 18, 19, 20, 21, 22, 23, 24, 25, 26, 27, 28, 29, 30, 31, 32, 33, 34, 35, 36, 37, 38, 39, 40, 41, 42, 43, 44, 45, 46, 47, 48, 49, 50, 51, 52]\n"
          ]
        }
      ]
    },
    {
      "cell_type": "code",
      "metadata": {
        "colab": {
          "base_uri": "https://localhost:8080/"
        },
        "id": "lYp47KeW5li3",
        "outputId": "7cae2482-7b72-4b65-aa38-cffe71fe042d"
      },
      "source": [
        "import random\n",
        "paquet = list(range(1,52))\n",
        "a = random.randint(0, 51)\n",
        "print(paquet[a : 51], paquet[0 : a])"
      ],
      "execution_count": null,
      "outputs": [
        {
          "output_type": "stream",
          "text": [
            "[35, 36, 37, 38, 39, 40, 41, 42, 43, 44, 45, 46, 47, 48, 49, 50, 51] [1, 2, 3, 4, 5, 6, 7, 8, 9, 10, 11, 12, 13, 14, 15, 16, 17, 18, 19, 20, 21, 22, 23, 24, 25, 26, 27, 28, 29, 30, 31, 32, 33, 34]\n"
          ],
          "name": "stdout"
        }
      ]
    },
    {
      "cell_type": "markdown",
      "metadata": {
        "id": "lHX3GZhsUH-g"
      },
      "source": [
        "* Couper le jeu de carte revient à choisir un indice `i` entre 0 et 51, et à passer toutes les cartes allant des indices 0 à i-1 à la suite des cartes qui vont des indices i à 51. Ecrire le code qui effectue une coupe choisie au hasard."
      ]
    },
    {
      "cell_type": "markdown",
      "metadata": {
        "id": "PEuKzcdBQ2CF"
      },
      "source": [
        "la fonction **randint(0, 52)** du module random. Cette fonction renvoie un nombre entier tiré aléatoirement entre 0 inclus et 52 inclus."
      ]
    },
    {
      "cell_type": "code",
      "metadata": {
        "colab": {
          "base_uri": "https://localhost:8080/"
        },
        "id": "3gAFkIu3UPPX",
        "outputId": "8668b804-daa2-4a39-a479-35fba9bd4996"
      },
      "source": [
        "i = random.randint(0,52)\n",
        "paquet = 2 * paquet\n",
        "paquet = paquet[i:i+52]\n",
        "print(paquet)"
      ],
      "execution_count": 13,
      "outputs": [
        {
          "output_type": "stream",
          "name": "stdout",
          "text": [
            "[50, 51, 52, 1, 2, 3, 4, 5, 6, 7, 8, 9, 10, 11, 12, 13, 14, 15, 16, 17, 18, 19, 20, 21, 22, 23, 24, 25, 26, 27, 28, 29, 30, 31, 32, 33, 34, 35, 36, 37, 38, 39, 40, 41, 42, 43, 44, 45, 46, 47, 48, 49]\n"
          ]
        }
      ]
    },
    {
      "cell_type": "markdown",
      "metadata": {
        "id": "eGnNxKiUNAk-"
      },
      "source": [
        "**2. Problème de Syracuse**"
      ]
    },
    {
      "cell_type": "code",
      "metadata": {
        "colab": {
          "base_uri": "https://localhost:8080/"
        },
        "id": "Z5TJifV3Fxe6",
        "outputId": "078581a9-4c52-4624-c8ec-78b5c124da1d"
      },
      "source": [
        "def syracuse(n):\n",
        "\n",
        "  res = []\n",
        "  while True:\n",
        "    res.append(n)\n",
        "    if n == 1:\n",
        "      break\n",
        "    if n % 2 == 0:\n",
        "      n = n // 2\n",
        "    else:\n",
        "      n = 3 * n + 1\n",
        "  return res\n",
        "print(syracuse(3))"
      ],
      "execution_count": 14,
      "outputs": [
        {
          "output_type": "stream",
          "name": "stdout",
          "text": [
            "[3, 10, 5, 16, 8, 4, 2, 1]\n"
          ]
        }
      ]
    },
    {
      "cell_type": "code",
      "metadata": {
        "colab": {
          "base_uri": "https://localhost:8080/"
        },
        "id": "aBUkgB06HOV3",
        "outputId": "a9559724-2317-4788-cd62-8a3224b59452"
      },
      "source": [
        "def testeConjecture(n_max):\n",
        "\n",
        "  for i in range(1, n_max + 1):\n",
        "    syracuse(i)\n",
        "  return True\n",
        "\n",
        "print(testeConjecture(10000))"
      ],
      "execution_count": 15,
      "outputs": [
        {
          "output_type": "stream",
          "name": "stdout",
          "text": [
            "True\n"
          ]
        }
      ]
    },
    {
      "cell_type": "code",
      "metadata": {
        "colab": {
          "base_uri": "https://localhost:8080/"
        },
        "id": "zldRKHhTHs_a",
        "outputId": "265b1941-be1f-41b0-81a2-ecc435f23804"
      },
      "source": [
        "def tempsVol(n):\n",
        "  cpt = 0\n",
        "  while True:\n",
        "    if n == 1:\n",
        "      break\n",
        "    cpt += 1\n",
        "    if n % 2 == 0:\n",
        "      n = n // 2\n",
        "    else:\n",
        "      n = 3 * n + 1\n",
        "  return cpt\n",
        "print(\"Le temps de vol de\", 3, \"est\", tempsVol(3))"
      ],
      "execution_count": 16,
      "outputs": [
        {
          "output_type": "stream",
          "name": "stdout",
          "text": [
            "Le temps de vol de 3 est 7\n"
          ]
        }
      ]
    },
    {
      "cell_type": "code",
      "metadata": {
        "colab": {
          "base_uri": "https://localhost:8080/"
        },
        "id": "nIe-ij_zIUO8",
        "outputId": "2ab52d2f-3908-4ec4-e26a-7883993e1feb"
      },
      "source": [
        "def tempsVolListe(n_max):\n",
        "  return [tempsVol(i) for i in range(1, n_max)]\n",
        "print(tempsVolListe(100))"
      ],
      "execution_count": 17,
      "outputs": [
        {
          "output_type": "stream",
          "name": "stdout",
          "text": [
            "[0, 1, 7, 2, 5, 8, 16, 3, 19, 6, 14, 9, 9, 17, 17, 4, 12, 20, 20, 7, 7, 15, 15, 10, 23, 10, 111, 18, 18, 18, 106, 5, 26, 13, 13, 21, 21, 21, 34, 8, 109, 8, 29, 16, 16, 16, 104, 11, 24, 24, 24, 11, 11, 112, 112, 19, 32, 19, 32, 19, 19, 107, 107, 6, 27, 27, 27, 14, 14, 14, 102, 22, 115, 22, 14, 22, 22, 35, 35, 9, 22, 110, 110, 9, 9, 30, 30, 17, 30, 17, 92, 17, 17, 105, 105, 12, 118, 25, 25]\n"
          ]
        }
      ]
    },
    {
      "cell_type": "code",
      "metadata": {
        "colab": {
          "base_uri": "https://localhost:8080/"
        },
        "id": "myNwXG3EIv-9",
        "outputId": "7d9ef7a3-36fb-4a64-cedc-f045b8b3b489"
      },
      "source": [
        "liste_vol = tempsVolListe(10000)\n",
        "vol_max = max(liste_vol)\n",
        "print(\"temps de vol maximum:\", vol_max)\n",
        "print(\"atteint par l'entier\", liste_vol.index(vol_max) + 1) #les indices démarrent à 0!\""
      ],
      "execution_count": 18,
      "outputs": [
        {
          "output_type": "stream",
          "name": "stdout",
          "text": [
            "temps de vol maximum: 261\natteint par l'entier 6171\n"
          ]
        }
      ]
    },
    {
      "cell_type": "code",
      "metadata": {
        "colab": {
          "base_uri": "https://localhost:8080/"
        },
        "id": "MUwHoxVXI5sA",
        "outputId": "17eeb035-c351-429c-a213-66812de86c6c"
      },
      "source": [
        "def alt_max(n):\n",
        "  \n",
        "  alt = n\n",
        "  while True:\n",
        "    if n == 1:\n",
        "      break\n",
        "    if n > alt:\n",
        "      alt = n\n",
        "    if n % 2 == 0:\n",
        "      n = n // 2\n",
        "    else:\n",
        "      n = 3 * n + 1\n",
        "  return alt\n",
        "print(\"L'altitude maximale de 3 est\", alt_max(3))\n",
        "liste_altitude = [alt_max(i) for i in range(1, 10001)]\n",
        "altitude_max = max(liste_altitude)\n",
        "print(\"L'altitude maximale entre 1 et 10000 est\", altitude_max)\n",
        "print(\"elle est atteinte par l'entier\", liste_altitude.index(altitude_max))"
      ],
      "execution_count": 19,
      "outputs": [
        {
          "output_type": "stream",
          "name": "stdout",
          "text": [
            "L'altitude maximale de 3 est 16\n",
            "L'altitude maximale entre 1 et 10000 est 27114424\n",
            "elle est atteinte par l'entier 9662\n"
          ]
        }
      ]
    },
    {
      "cell_type": "markdown",
      "metadata": {
        "id": "w66m6emmJxk4"
      },
      "source": [
        "**3. Carré magique**"
      ]
    },
    {
      "cell_type": "code",
      "metadata": {
        "colab": {
          "base_uri": "https://localhost:8080/"
        },
        "id": "xVKBNmudJ3ZY",
        "outputId": "e5faefa5-17b1-44b6-9ac1-247771a8af19"
      },
      "source": [
        "carre_mag = [[4, 14, 15, 1], [9, 7, 6, 12], [5, 11, 10, 8], [16, 2, 3, 13]]\n",
        "print(carre_mag)"
      ],
      "execution_count": 20,
      "outputs": [
        {
          "output_type": "stream",
          "name": "stdout",
          "text": [
            "[[4, 14, 15, 1], [9, 7, 6, 12], [5, 11, 10, 8], [16, 2, 3, 13]]\n"
          ]
        }
      ]
    },
    {
      "cell_type": "code",
      "metadata": {
        "id": "kIXdwrmJKL-E"
      },
      "source": [
        "carre_pas_mag = [list(l) for l in carre_mag] # attention, on ne peut pas seulement copier la liste\\n\",\n",
        "carre_pas_mag[3][2] = 7"
      ],
      "execution_count": 21,
      "outputs": []
    },
    {
      "cell_type": "code",
      "metadata": {
        "colab": {
          "base_uri": "https://localhost:8080/"
        },
        "id": "-ZJSlbFmKYoD",
        "outputId": "31c8f22f-3979-43e1-9b6f-7d5e7d7b53d8"
      },
      "source": [
        "def afficheCarre(carre):\n",
        "\n",
        "  for l in carre:\n",
        "    print(l)\n",
        "  print()\n",
        "\n",
        "afficheCarre(carre_mag)\n",
        "afficheCarre(carre_pas_mag)"
      ],
      "execution_count": 22,
      "outputs": [
        {
          "output_type": "stream",
          "name": "stdout",
          "text": [
            "[4, 14, 15, 1]\n[9, 7, 6, 12]\n[5, 11, 10, 8]\n[16, 2, 3, 13]\n\n[4, 14, 15, 1]\n[9, 7, 6, 12]\n[5, 11, 10, 8]\n[16, 2, 7, 13]\n\n"
          ]
        }
      ]
    },
    {
      "cell_type": "code",
      "metadata": {
        "colab": {
          "base_uri": "https://localhost:8080/"
        },
        "id": "O1Td-pf9K5Xp",
        "outputId": "9e954e95-5134-4cba-ea10-1960f1f58dfe"
      },
      "source": [
        "def testLignesEgales(carre):\n",
        "\n",
        "  som = sum(carre[0])\n",
        "  for l in carre:\n",
        "    if sum(l) != som:\n",
        "      return -1\n",
        "  return som\n",
        "\n",
        "print(testLignesEgales(carre_mag))\n",
        "print(testLignesEgales(carre_pas_mag))"
      ],
      "execution_count": 23,
      "outputs": [
        {
          "output_type": "stream",
          "name": "stdout",
          "text": [
            "34\n-1\n"
          ]
        }
      ]
    },
    {
      "cell_type": "code",
      "metadata": {
        "colab": {
          "base_uri": "https://localhost:8080/"
        },
        "id": "Equ3XZHuLPgV",
        "outputId": "9c227a2b-161c-494d-abb9-2b812c7a2326"
      },
      "source": [
        "def testColonnesEgales(carre):\n",
        "\n",
        "  col = [l[0] for l in carre]\n",
        "  som = sum(col)\n",
        "  for i in range(1, len(carre)):\n",
        "    col = [l[i] for l in carre]\n",
        "    if sum(col) != som:\n",
        "      return -1\n",
        "  return som\n",
        "\n",
        "print(testColonnesEgales(carre_mag))\n",
        "print(testColonnesEgales(carre_pas_mag))"
      ],
      "execution_count": 24,
      "outputs": [
        {
          "output_type": "stream",
          "name": "stdout",
          "text": [
            "34\n-1\n"
          ]
        }
      ]
    },
    {
      "cell_type": "code",
      "metadata": {
        "colab": {
          "base_uri": "https://localhost:8080/"
        },
        "id": "v2QErkfQLoSk",
        "outputId": "1d332782-212f-46f7-efdb-2ff13db0dabf"
      },
      "source": [
        "def testDiagonalesEgales(carre):\n",
        "\n",
        "  n = len(carre)\n",
        "  diag = [carre[i][i] for i in range(n)]\n",
        "  anti_diag = [carre[i][n - 1 - i] for i in range(n)]\n",
        "  som = sum(diag)\n",
        "  if som == sum(anti_diag):\n",
        "    return som\n",
        "  else:\n",
        "    return -1\n",
        "    \n",
        "print(testDiagonalesEgales(carre_mag))\n",
        "print(testDiagonalesEgales(carre_pas_mag))"
      ],
      "execution_count": 25,
      "outputs": [
        {
          "output_type": "stream",
          "name": "stdout",
          "text": [
            "34\n34\n"
          ]
        }
      ]
    },
    {
      "cell_type": "code",
      "metadata": {
        "colab": {
          "base_uri": "https://localhost:8080/"
        },
        "id": "DANi64mEMA4M",
        "outputId": "9be428a0-e80e-4c07-8314-595260dc6218"
      },
      "source": [
        "def estCarreMagique(carre):\n",
        "\n",
        "  return testLignesEgales(carre) ==  testColonnesEgales(carre) and testLignesEgales(carre) == testDiagonalesEgales(carre) and testLignesEgales(carre) != -1\n",
        "\n",
        "print(estCarreMagique(carre_mag))\n",
        "print(estCarreMagique(carre_pas_mag))"
      ],
      "execution_count": 26,
      "outputs": [
        {
          "output_type": "stream",
          "name": "stdout",
          "text": [
            "True\nFalse\n"
          ]
        }
      ]
    },
    {
      "cell_type": "code",
      "metadata": {
        "colab": {
          "base_uri": "https://localhost:8080/"
        },
        "id": "qqtCZ5qqMeKA",
        "outputId": "7f817b4d-3afe-4c9c-9db2-642ca0117689"
      },
      "source": [
        "def estNormal(carre):\n",
        "\n",
        "  n = len(carre)\n",
        "  nombres = list(range(1, n * n + 1))\n",
        "  for i in range(n):\n",
        "    for j in range(n):\n",
        "      if carre[i][j] in nombres: #on teste d'abord pour pas générer d'erreur avec remove\\n\",\n",
        "        nombres.remove(carre[i][j])\n",
        "  return len(nombres) == 0\n",
        "\n",
        "print(estNormal(carre_mag))\n",
        "print(estNormal(carre_pas_mag))"
      ],
      "execution_count": 27,
      "outputs": [
        {
          "output_type": "stream",
          "name": "stdout",
          "text": [
            "True\nFalse\n"
          ]
        }
      ]
    },
    {
      "cell_type": "code",
      "execution_count": null,
      "metadata": {},
      "outputs": [],
      "source": []
    },
    {
      "cell_type": "code",
      "execution_count": null,
      "metadata": {},
      "outputs": [],
      "source": []
    }
  ]
}